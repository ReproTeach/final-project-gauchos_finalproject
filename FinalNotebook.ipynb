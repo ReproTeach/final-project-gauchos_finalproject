{
 "cells": [
  {
   "cell_type": "markdown",
   "id": "5e71fc06-2150-4593-a571-6a6d09e02d24",
   "metadata": {
    "tags": []
   },
   "source": [
    "# Sandy Hurricane hi\n"
   ]
  },
  {
   "cell_type": "code",
   "execution_count": null,
   "id": "5c709c6e-c621-4619-9c93-4b71793b6023",
   "metadata": {},
   "outputs": [],
   "source": []
  },
  {
   "cell_type": "code",
   "execution_count": null,
   "id": "211c38cf-6fa4-4151-a75d-035459d8ebb9",
   "metadata": {},
   "outputs": [],
   "source": []
  }
 ],
 "metadata": {
  "kernelspec": {
   "display_name": "Python 3 (ipykernel)",
   "language": "python",
   "name": "python3"
  },
  "language_info": {
   "codemirror_mode": {
    "name": "ipython",
    "version": 3
   },
   "file_extension": ".py",
   "mimetype": "text/x-python",
   "name": "python",
   "nbconvert_exporter": "python",
   "pygments_lexer": "ipython3",
   "version": "3.10.9"
  }
 },
 "nbformat": 4,
 "nbformat_minor": 5
}
